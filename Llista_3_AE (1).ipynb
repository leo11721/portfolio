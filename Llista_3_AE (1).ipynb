{
  "nbformat": 4,
  "nbformat_minor": 0,
  "metadata": {
    "colab": {
      "provenance": []
    },
    "kernelspec": {
      "name": "python3",
      "display_name": "Python 3"
    },
    "language_info": {
      "name": "python"
    }
  },
  "cells": [
    {
      "cell_type": "code",
      "execution_count": null,
      "metadata": {
        "colab": {
          "base_uri": "https://localhost:8080/",
          "height": 73
        },
        "id": "BrnNZPUHRIG7",
        "outputId": "3c9df61d-12dc-4e1d-e833-393d6a816797"
      },
      "outputs": [
        {
          "output_type": "display_data",
          "data": {
            "text/plain": [
              "<IPython.core.display.HTML object>"
            ],
            "text/html": [
              "\n",
              "     <input type=\"file\" id=\"files-dd1d1986-3b30-4e1a-99fa-414452e4a76e\" name=\"files[]\" multiple disabled\n",
              "        style=\"border:none\" />\n",
              "     <output id=\"result-dd1d1986-3b30-4e1a-99fa-414452e4a76e\">\n",
              "      Upload widget is only available when the cell has been executed in the\n",
              "      current browser session. Please rerun this cell to enable.\n",
              "      </output>\n",
              "      <script>// Copyright 2017 Google LLC\n",
              "//\n",
              "// Licensed under the Apache License, Version 2.0 (the \"License\");\n",
              "// you may not use this file except in compliance with the License.\n",
              "// You may obtain a copy of the License at\n",
              "//\n",
              "//      http://www.apache.org/licenses/LICENSE-2.0\n",
              "//\n",
              "// Unless required by applicable law or agreed to in writing, software\n",
              "// distributed under the License is distributed on an \"AS IS\" BASIS,\n",
              "// WITHOUT WARRANTIES OR CONDITIONS OF ANY KIND, either express or implied.\n",
              "// See the License for the specific language governing permissions and\n",
              "// limitations under the License.\n",
              "\n",
              "/**\n",
              " * @fileoverview Helpers for google.colab Python module.\n",
              " */\n",
              "(function(scope) {\n",
              "function span(text, styleAttributes = {}) {\n",
              "  const element = document.createElement('span');\n",
              "  element.textContent = text;\n",
              "  for (const key of Object.keys(styleAttributes)) {\n",
              "    element.style[key] = styleAttributes[key];\n",
              "  }\n",
              "  return element;\n",
              "}\n",
              "\n",
              "// Max number of bytes which will be uploaded at a time.\n",
              "const MAX_PAYLOAD_SIZE = 100 * 1024;\n",
              "\n",
              "function _uploadFiles(inputId, outputId) {\n",
              "  const steps = uploadFilesStep(inputId, outputId);\n",
              "  const outputElement = document.getElementById(outputId);\n",
              "  // Cache steps on the outputElement to make it available for the next call\n",
              "  // to uploadFilesContinue from Python.\n",
              "  outputElement.steps = steps;\n",
              "\n",
              "  return _uploadFilesContinue(outputId);\n",
              "}\n",
              "\n",
              "// This is roughly an async generator (not supported in the browser yet),\n",
              "// where there are multiple asynchronous steps and the Python side is going\n",
              "// to poll for completion of each step.\n",
              "// This uses a Promise to block the python side on completion of each step,\n",
              "// then passes the result of the previous step as the input to the next step.\n",
              "function _uploadFilesContinue(outputId) {\n",
              "  const outputElement = document.getElementById(outputId);\n",
              "  const steps = outputElement.steps;\n",
              "\n",
              "  const next = steps.next(outputElement.lastPromiseValue);\n",
              "  return Promise.resolve(next.value.promise).then((value) => {\n",
              "    // Cache the last promise value to make it available to the next\n",
              "    // step of the generator.\n",
              "    outputElement.lastPromiseValue = value;\n",
              "    return next.value.response;\n",
              "  });\n",
              "}\n",
              "\n",
              "/**\n",
              " * Generator function which is called between each async step of the upload\n",
              " * process.\n",
              " * @param {string} inputId Element ID of the input file picker element.\n",
              " * @param {string} outputId Element ID of the output display.\n",
              " * @return {!Iterable<!Object>} Iterable of next steps.\n",
              " */\n",
              "function* uploadFilesStep(inputId, outputId) {\n",
              "  const inputElement = document.getElementById(inputId);\n",
              "  inputElement.disabled = false;\n",
              "\n",
              "  const outputElement = document.getElementById(outputId);\n",
              "  outputElement.innerHTML = '';\n",
              "\n",
              "  const pickedPromise = new Promise((resolve) => {\n",
              "    inputElement.addEventListener('change', (e) => {\n",
              "      resolve(e.target.files);\n",
              "    });\n",
              "  });\n",
              "\n",
              "  const cancel = document.createElement('button');\n",
              "  inputElement.parentElement.appendChild(cancel);\n",
              "  cancel.textContent = 'Cancel upload';\n",
              "  const cancelPromise = new Promise((resolve) => {\n",
              "    cancel.onclick = () => {\n",
              "      resolve(null);\n",
              "    };\n",
              "  });\n",
              "\n",
              "  // Wait for the user to pick the files.\n",
              "  const files = yield {\n",
              "    promise: Promise.race([pickedPromise, cancelPromise]),\n",
              "    response: {\n",
              "      action: 'starting',\n",
              "    }\n",
              "  };\n",
              "\n",
              "  cancel.remove();\n",
              "\n",
              "  // Disable the input element since further picks are not allowed.\n",
              "  inputElement.disabled = true;\n",
              "\n",
              "  if (!files) {\n",
              "    return {\n",
              "      response: {\n",
              "        action: 'complete',\n",
              "      }\n",
              "    };\n",
              "  }\n",
              "\n",
              "  for (const file of files) {\n",
              "    const li = document.createElement('li');\n",
              "    li.append(span(file.name, {fontWeight: 'bold'}));\n",
              "    li.append(span(\n",
              "        `(${file.type || 'n/a'}) - ${file.size} bytes, ` +\n",
              "        `last modified: ${\n",
              "            file.lastModifiedDate ? file.lastModifiedDate.toLocaleDateString() :\n",
              "                                    'n/a'} - `));\n",
              "    const percent = span('0% done');\n",
              "    li.appendChild(percent);\n",
              "\n",
              "    outputElement.appendChild(li);\n",
              "\n",
              "    const fileDataPromise = new Promise((resolve) => {\n",
              "      const reader = new FileReader();\n",
              "      reader.onload = (e) => {\n",
              "        resolve(e.target.result);\n",
              "      };\n",
              "      reader.readAsArrayBuffer(file);\n",
              "    });\n",
              "    // Wait for the data to be ready.\n",
              "    let fileData = yield {\n",
              "      promise: fileDataPromise,\n",
              "      response: {\n",
              "        action: 'continue',\n",
              "      }\n",
              "    };\n",
              "\n",
              "    // Use a chunked sending to avoid message size limits. See b/62115660.\n",
              "    let position = 0;\n",
              "    do {\n",
              "      const length = Math.min(fileData.byteLength - position, MAX_PAYLOAD_SIZE);\n",
              "      const chunk = new Uint8Array(fileData, position, length);\n",
              "      position += length;\n",
              "\n",
              "      const base64 = btoa(String.fromCharCode.apply(null, chunk));\n",
              "      yield {\n",
              "        response: {\n",
              "          action: 'append',\n",
              "          file: file.name,\n",
              "          data: base64,\n",
              "        },\n",
              "      };\n",
              "\n",
              "      let percentDone = fileData.byteLength === 0 ?\n",
              "          100 :\n",
              "          Math.round((position / fileData.byteLength) * 100);\n",
              "      percent.textContent = `${percentDone}% done`;\n",
              "\n",
              "    } while (position < fileData.byteLength);\n",
              "  }\n",
              "\n",
              "  // All done.\n",
              "  yield {\n",
              "    response: {\n",
              "      action: 'complete',\n",
              "    }\n",
              "  };\n",
              "}\n",
              "\n",
              "scope.google = scope.google || {};\n",
              "scope.google.colab = scope.google.colab || {};\n",
              "scope.google.colab._files = {\n",
              "  _uploadFiles,\n",
              "  _uploadFilesContinue,\n",
              "};\n",
              "})(self);\n",
              "</script> "
            ]
          },
          "metadata": {}
        },
        {
          "output_type": "stream",
          "name": "stdout",
          "text": [
            "Saving nhanes_2015_2016.csv to nhanes_2015_2016.csv\n"
          ]
        }
      ],
      "source": [
        "import pandas as pd\n",
        "import numpy as np\n",
        "from google.colab import files\n",
        "uploaded = files.upload()\n"
      ]
    },
    {
      "cell_type": "code",
      "source": [
        "df = pd.read_csv('nhanes_2015_2016.csv')\n",
        "df.shape\n",
        "df.head()\n",
        "\n",
        "print(df['RIDAGEYR'].head(10))"
      ],
      "metadata": {
        "colab": {
          "base_uri": "https://localhost:8080/"
        },
        "id": "zW5L7DhsRytF",
        "outputId": "ea00a554-527d-448c-ba95-7276eee0a225"
      },
      "execution_count": null,
      "outputs": [
        {
          "output_type": "stream",
          "name": "stdout",
          "text": [
            "0    62\n",
            "1    53\n",
            "2    78\n",
            "3    56\n",
            "4    42\n",
            "5    72\n",
            "6    22\n",
            "7    32\n",
            "8    18\n",
            "9    56\n",
            "Name: RIDAGEYR, dtype: int64\n"
          ]
        }
      ]
    },
    {
      "cell_type": "code",
      "source": [
        "#1 Media BMI\n",
        "media = df['BMXBMI'].mean()\n",
        "print('Media', media)\n",
        "mediana = df['BMXBMI'].median()\n",
        "print('Mediana', mediana)\n",
        "moda = df['BMXBMI'].mode()\n",
        "print('Moda', moda)"
      ],
      "metadata": {
        "colab": {
          "base_uri": "https://localhost:8080/"
        },
        "id": "czcaPMhqSVuM",
        "outputId": "f9f9d721-8ebf-470b-dad1-274c6879ac80"
      },
      "execution_count": null,
      "outputs": [
        {
          "output_type": "stream",
          "name": "stdout",
          "text": [
            "Media 29.382197103497\n",
            "Mediana 28.3\n",
            "Moda 0    29.1\n",
            "Name: BMXBMI, dtype: float64\n"
          ]
        }
      ]
    },
    {
      "cell_type": "code",
      "source": [
        "#2 media BMI maiores de 18 anos\n",
        "df18 = df[df['RIDAGEYR'] >= 18]\n",
        "df18.shape\n",
        "idade_minima = df[\"RIDAGEYR\"].min()\n",
        "print (idade_minima)\n",
        "media18 = df18['BMXBMI'].mean()\n",
        "print('Media18', media18)\n",
        "mediana18 = df['BMXBMI'].median()\n",
        "print('Mediana18', mediana18)\n",
        "moda18 = df['BMXBMI'].mode()\n",
        "print('Moda18', moda18)"
      ],
      "metadata": {
        "colab": {
          "base_uri": "https://localhost:8080/"
        },
        "id": "_CuxVAloUIFD",
        "outputId": "301b41e5-0a2b-4bfe-941c-4918f1cc77ae"
      },
      "execution_count": null,
      "outputs": [
        {
          "output_type": "stream",
          "name": "stdout",
          "text": [
            "nan\n",
            "Media18 nan\n",
            "Mediana18 28.3\n",
            "Moda18 0    29.1\n",
            "Name: BMXBMI, dtype: float64\n"
          ]
        }
      ]
    },
    {
      "cell_type": "code",
      "source": [
        "#4 IC pressão sistólica\n",
        "df['media_pressao_sistolica'] = df[['BPXSY1', 'BPXSY2']].mean(axis=1)\n",
        "df['media_pressao_sistolica']\n"
      ],
      "metadata": {
        "colab": {
          "base_uri": "https://localhost:8080/",
          "height": 458
        },
        "id": "azbl1eHsjSaL",
        "outputId": "4d4c992a-13d6-4ddc-ef1c-e617ca7aef2a"
      },
      "execution_count": null,
      "outputs": [
        {
          "output_type": "execute_result",
          "data": {
            "text/plain": [
              "0       126.0\n",
              "1       143.0\n",
              "2       135.0\n",
              "3       133.0\n",
              "4       107.0\n",
              "        ...  \n",
              "5730    112.0\n",
              "5731    117.0\n",
              "5732    150.0\n",
              "5733    105.0\n",
              "5734    116.0\n",
              "Name: media_pressao_sistolica, Length: 5735, dtype: float64"
            ],
            "text/html": [
              "<div>\n",
              "<style scoped>\n",
              "    .dataframe tbody tr th:only-of-type {\n",
              "        vertical-align: middle;\n",
              "    }\n",
              "\n",
              "    .dataframe tbody tr th {\n",
              "        vertical-align: top;\n",
              "    }\n",
              "\n",
              "    .dataframe thead th {\n",
              "        text-align: right;\n",
              "    }\n",
              "</style>\n",
              "<table border=\"1\" class=\"dataframe\">\n",
              "  <thead>\n",
              "    <tr style=\"text-align: right;\">\n",
              "      <th></th>\n",
              "      <th>media_pressao_sistolica</th>\n",
              "    </tr>\n",
              "  </thead>\n",
              "  <tbody>\n",
              "    <tr>\n",
              "      <th>0</th>\n",
              "      <td>126.0</td>\n",
              "    </tr>\n",
              "    <tr>\n",
              "      <th>1</th>\n",
              "      <td>143.0</td>\n",
              "    </tr>\n",
              "    <tr>\n",
              "      <th>2</th>\n",
              "      <td>135.0</td>\n",
              "    </tr>\n",
              "    <tr>\n",
              "      <th>3</th>\n",
              "      <td>133.0</td>\n",
              "    </tr>\n",
              "    <tr>\n",
              "      <th>4</th>\n",
              "      <td>107.0</td>\n",
              "    </tr>\n",
              "    <tr>\n",
              "      <th>...</th>\n",
              "      <td>...</td>\n",
              "    </tr>\n",
              "    <tr>\n",
              "      <th>5730</th>\n",
              "      <td>112.0</td>\n",
              "    </tr>\n",
              "    <tr>\n",
              "      <th>5731</th>\n",
              "      <td>117.0</td>\n",
              "    </tr>\n",
              "    <tr>\n",
              "      <th>5732</th>\n",
              "      <td>150.0</td>\n",
              "    </tr>\n",
              "    <tr>\n",
              "      <th>5733</th>\n",
              "      <td>105.0</td>\n",
              "    </tr>\n",
              "    <tr>\n",
              "      <th>5734</th>\n",
              "      <td>116.0</td>\n",
              "    </tr>\n",
              "  </tbody>\n",
              "</table>\n",
              "<p>5735 rows × 1 columns</p>\n",
              "</div><br><label><b>dtype:</b> float64</label>"
            ]
          },
          "metadata": {},
          "execution_count": 14
        }
      ]
    },
    {
      "cell_type": "code",
      "source": [
        "import numpy as np\n",
        "from scipy import stats\n",
        "\n",
        "\n",
        "dadospressao = df['media_pressao_sistolica'].dropna()\n",
        "\n",
        "n = len(dadospressao)                 # tamanho da amostra\n",
        "media = np.mean(dadospressao)         # média amostral\n",
        "desvio = np.std(dadospressao, ddof=1) # desvio padrão amostral\n",
        "\n",
        "conf = 0.95\n",
        "\n",
        "z_critico = 1.96\n",
        "\n",
        "# Erro padrão da média\n",
        "erro_padrao = desvio / np.sqrt(n)\n",
        "\n",
        "# Limites do intervalo de confiança\n",
        "limite_inferior = media - z_critico * erro_padrao\n",
        "limite_superior = media + z_critico * erro_padrao\n",
        "\n",
        "print(f'IC 95% usando normal (z): [{limite_inferior:.2f}, {limite_superior:.2f}]')"
      ],
      "metadata": {
        "colab": {
          "base_uri": "https://localhost:8080/"
        },
        "id": "9f7aMK0NqF4P",
        "outputId": "1036524a-9e6d-427c-b111-843185c915bf"
      },
      "execution_count": null,
      "outputs": [
        {
          "output_type": "stream",
          "name": "stdout",
          "text": [
            "IC 95% usando normal (z): [124.62, 125.59]\n"
          ]
        }
      ]
    },
    {
      "cell_type": "code",
      "source": [
        "#5 TESTE T para fumantes vs nao fumantes\n",
        "fumantes = df[df[\"SMQ020\"] == 1]\n",
        "from scipy.stats import ttest_ind\n",
        "# Filtrar não fumantes (resposta = 2)\n",
        "nao_fumantes = df[df[\"SMQ020\"] == 2]\n",
        "\n",
        "# Contar quantos há em cada grupo\n",
        "print(f\"Fumantes: {len(fumantes)}\")\n",
        "print(f\"Não fumantes: {len(nao_fumantes)}\")\n",
        "\n",
        "df[\"media_diastolica\"] = df[[\"BPXDI1\", \"BPXDI2\"]].mean(axis=1)\n",
        "\n",
        "# Fumantes: SMQ020 == 1\n",
        "fumantes = df[df[\"SMQ020\"] == 1][\"media_diastolica\"].dropna()\n",
        "\n",
        "# Não fumantes: SMQ020 == 2\n",
        "nao_fumantes = df[df[\"SMQ020\"] == 2][\"media_diastolica\"].dropna()\n",
        "\n",
        "# Teste t\n",
        "t_stat, p_val = ttest_ind(fumantes, nao_fumantes, equal_var=False)\n",
        "\n",
        "# Resultados\n",
        "print(f\"Média fumantes: {fumantes.mean():.2f}\")\n",
        "print(f\"Média não fumantes: {nao_fumantes.mean():.2f}\")\n",
        "print(f\"t-estatística: {t_stat:.4f}\")\n",
        "print(f\"p-valor: {p_val:.4f}\")"
      ],
      "metadata": {
        "colab": {
          "base_uri": "https://localhost:8080/"
        },
        "id": "sIvwxZzRhL11",
        "outputId": "50628dae-1527-41aa-86cf-ff64019e23e1"
      },
      "execution_count": null,
      "outputs": [
        {
          "output_type": "stream",
          "name": "stdout",
          "text": [
            "Fumantes: 2319\n",
            "Não fumantes: 3406\n",
            "Média fumantes: 69.73\n",
            "Média não fumantes: 69.41\n",
            "t-estatística: 0.9095\n",
            "p-valor: 0.3631\n"
          ]
        }
      ]
    },
    {
      "cell_type": "code",
      "source": [
        "# 8.função Genérica para calcular IC\n",
        "\n",
        "import numpy as np\n",
        "\n",
        "def intervalo_confianca(df, coluna, z=1.96):\n",
        "\n",
        "\n",
        "    dados = [10, 12, 9, 11, 10, 13, 12]\n",
        "    media = dados.mean()\n",
        "    desvio = dados.std()\n",
        "    n = dados.count()\n",
        "    erro_padrao = desvio / np.sqrt(n)\n",
        "\n",
        "    ic_inferior = media - z * erro_padrao\n",
        "    ic_superior = media + z * erro_padrao\n",
        "\n",
        "    return {\n",
        "        \"variavel\": coluna,\n",
        "        \"media\": round(media, 2),\n",
        "        \"IC_95%\": (round(ic_inferior, 2), round(ic_superior, 2)),\n",
        "        \"n\": n\n",
        "    }\n",
        "\n"
      ],
      "metadata": {
        "id": "3w3BABNGjx6B"
      },
      "execution_count": null,
      "outputs": []
    },
    {
      "cell_type": "code",
      "source": [
        "#9 Gráfico de IC por faixa etária\n",
        "bins = [0, 17, 24, 34, 44, 59, 150]  # 150 para incluir idades mais altas\n",
        "labels = ['0–17', '18–24', '25–34', '35–44', '45–59', '60+']\n",
        "df['faixa_etaria'] = pd.cut(df['RIDAGEYR'], bins=bins, labels=labels, right=True)\n",
        "df['faixa_etaria']\n",
        "\n"
      ],
      "metadata": {
        "colab": {
          "base_uri": "https://localhost:8080/",
          "height": 458
        },
        "id": "ABZICSeLdbwk",
        "outputId": "65f33eab-bafd-495b-9d87-d3ab628fd398"
      },
      "execution_count": null,
      "outputs": [
        {
          "output_type": "execute_result",
          "data": {
            "text/plain": [
              "0         60+\n",
              "1       45–59\n",
              "2         60+\n",
              "3       45–59\n",
              "4       35–44\n",
              "        ...  \n",
              "5730      60+\n",
              "5731    25–34\n",
              "5732      60+\n",
              "5733    35–44\n",
              "5734    18–24\n",
              "Name: faixa_etaria, Length: 5735, dtype: category\n",
              "Categories (6, object): ['0–17' < '18–24' < '25–34' < '35–44' < '45–59' < '60+']"
            ],
            "text/html": [
              "<div>\n",
              "<style scoped>\n",
              "    .dataframe tbody tr th:only-of-type {\n",
              "        vertical-align: middle;\n",
              "    }\n",
              "\n",
              "    .dataframe tbody tr th {\n",
              "        vertical-align: top;\n",
              "    }\n",
              "\n",
              "    .dataframe thead th {\n",
              "        text-align: right;\n",
              "    }\n",
              "</style>\n",
              "<table border=\"1\" class=\"dataframe\">\n",
              "  <thead>\n",
              "    <tr style=\"text-align: right;\">\n",
              "      <th></th>\n",
              "      <th>faixa_etaria</th>\n",
              "    </tr>\n",
              "  </thead>\n",
              "  <tbody>\n",
              "    <tr>\n",
              "      <th>0</th>\n",
              "      <td>60+</td>\n",
              "    </tr>\n",
              "    <tr>\n",
              "      <th>1</th>\n",
              "      <td>45–59</td>\n",
              "    </tr>\n",
              "    <tr>\n",
              "      <th>2</th>\n",
              "      <td>60+</td>\n",
              "    </tr>\n",
              "    <tr>\n",
              "      <th>3</th>\n",
              "      <td>45–59</td>\n",
              "    </tr>\n",
              "    <tr>\n",
              "      <th>4</th>\n",
              "      <td>35–44</td>\n",
              "    </tr>\n",
              "    <tr>\n",
              "      <th>...</th>\n",
              "      <td>...</td>\n",
              "    </tr>\n",
              "    <tr>\n",
              "      <th>5730</th>\n",
              "      <td>60+</td>\n",
              "    </tr>\n",
              "    <tr>\n",
              "      <th>5731</th>\n",
              "      <td>25–34</td>\n",
              "    </tr>\n",
              "    <tr>\n",
              "      <th>5732</th>\n",
              "      <td>60+</td>\n",
              "    </tr>\n",
              "    <tr>\n",
              "      <th>5733</th>\n",
              "      <td>35–44</td>\n",
              "    </tr>\n",
              "    <tr>\n",
              "      <th>5734</th>\n",
              "      <td>18–24</td>\n",
              "    </tr>\n",
              "  </tbody>\n",
              "</table>\n",
              "<p>5735 rows × 1 columns</p>\n",
              "</div><br><label><b>dtype:</b> category</label>"
            ]
          },
          "metadata": {},
          "execution_count": 64
        }
      ]
    },
    {
      "cell_type": "code",
      "source": [
        "import seaborn as sns\n",
        "import matplotlib.pyplot as plt\n",
        "agrupada = df['faixa_etaria'].value_counts().sort_index().reset_index()\n",
        "agrupada.columns = ['faixa_etaria', 'quantidade']\n",
        "\n",
        "\n",
        "sns.barplot(data=agrupada, x='faixa_etaria', y='quantidade', color='skyblue')\n",
        "plt.title('Número de Pessoas por Faixa Etária')\n",
        "plt.xlabel('Faixa Etária')\n",
        "plt.ylabel('Quantidade de Pessoas')\n",
        "plt.xticks(rotation=45)  # gira os rótulos do eixo X se estiverem apertados\n",
        "plt.tight_layout()\n",
        "plt.show()"
      ],
      "metadata": {
        "colab": {
          "base_uri": "https://localhost:8080/",
          "height": 487
        },
        "id": "lWE3Fut5iqyE",
        "outputId": "f4353809-59bb-46b3-eca7-1ba4e6b0c686"
      },
      "execution_count": null,
      "outputs": [
        {
          "output_type": "display_data",
          "data": {
            "text/plain": [
              "<Figure size 640x480 with 1 Axes>"
            ],
            "image/png": "[encoded data removed]"
          },
          "metadata": {}
        }
      ]
    },
    {
      "cell_type": "code",
      "source": [
        "media_BMI = df.groupby('faixa_etaria')['BMXBMI'].mean().reset_index()\n",
        "media_BMI\n",
        "\n",
        "sns.barplot(\n",
        "    data=df,\n",
        "    x='faixa_etaria',\n",
        "    y='BMXBMI',\n",
        "    ci=95,                  # mostra intervalo de confiança de 95% (padrão)\n",
        "    capsize=0.1,            # coloca \"tracinhos\" nos erros (ICs)\n",
        "    color='skyblue'         # cor da barra\n",
        ")\n",
        "\n",
        "plt.title('Média de BMI por Faixa Etária (com IC)')\n",
        "plt.xlabel('Faixa Etária')\n",
        "plt.ylabel('BMI médio')\n",
        "plt.xticks(rotation=45)\n",
        "plt.tight_layout()\n",
        "plt.show()\n",
        "print (media_BMI)"
      ],
      "metadata": {
        "colab": {
          "base_uri": "https://localhost:8080/",
          "height": 750
        },
        "id": "78unQ_RJ7xNP",
        "outputId": "bd2ed31c-6c58-4cf1-970e-d79f55f222fd"
      },
      "execution_count": null,
      "outputs": [
        {
          "output_type": "stream",
          "name": "stderr",
          "text": [
            "/tmp/ipython-input-100-4114170554.py:1: FutureWarning: The default of observed=False is deprecated and will be changed to True in a future version of pandas. Pass observed=False to retain current behavior or observed=True to adopt the future default and silence this warning.\n",
            "  media_BMI = df.groupby('faixa_etaria')['BMXBMI'].mean().reset_index()\n",
            "/tmp/ipython-input-100-4114170554.py:4: FutureWarning: \n",
            "\n",
            "The `ci` parameter is deprecated. Use `errorbar=('ci', 95)` for the same effect.\n",
            "\n",
            "  sns.barplot(\n"
          ]
        },
        {
          "output_type": "display_data",
          "data": {
            "text/plain": [
              "<Figure size 640x480 with 1 Axes>"
            ],
            "image/png": "[encoded data removed]"
          },
          "metadata": {}
        },
        {
          "output_type": "stream",
          "name": "stdout",
          "text": [
            "  faixa_etaria     BMXBMI\n",
            "0         0–17        NaN\n",
            "1        18–24  26.924292\n",
            "2        25–34  28.888151\n",
            "3        35–44  30.403194\n",
            "4        45–59  30.147673\n",
            "5          60+  29.487302\n"
          ]
        }
      ]
    }
  ]
}