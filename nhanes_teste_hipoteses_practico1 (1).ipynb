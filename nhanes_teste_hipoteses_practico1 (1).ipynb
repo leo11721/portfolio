{
  "cells": [
    {
      "cell_type": "markdown",
      "metadata": {
        "id": "QB45H93xeP_L"
      },
      "source": [
        "# Notebook de prática para testes de hipótese usando dados do NHANES\n",
        "\n",
        "Este notebook lhe dará a oportunidade de realizar alguns testes de hipótese com os dados do NHANES, semelhantes ao que foi feito no notebook do estudo de caso"
      ]
    },
    {
      "cell_type": "code",
      "execution_count": null,
      "metadata": {
        "id": "UxzzlAw-eP_M"
      },
      "outputs": [],
      "source": [
        "import matplotlib.pyplot as plt\n",
        "import seaborn as sns\n",
        "import pandas as pd\n",
        "import statsmodels.api as sm\n",
        "import numpy as np\n",
        "import scipy.stats.distributions as dist\n",
        "from statsmodels.stats.proportion import proportion_confint\n",
        "%matplotlib inline"
      ]
    },
    {
      "cell_type": "markdown",
      "metadata": {
        "id": "u7jioGPheP_N"
      },
      "source": [
        "### Carregando os dados NHANES"
      ]
    },
    {
      "cell_type": "code",
      "execution_count": null,
      "metadata": {
        "id": "DQLfhL9KeP_N",
        "outputId": "ec4aeb9a-5ad6-4f07-8948-a19dc3a4b991"
      },
      "outputs": [
        {
          "data": {
            "text/html": [
              "<div>\n",
              "<style scoped>\n",
              "    .dataframe tbody tr th:only-of-type {\n",
              "        vertical-align: middle;\n",
              "    }\n",
              "\n",
              "    .dataframe tbody tr th {\n",
              "        vertical-align: top;\n",
              "    }\n",
              "\n",
              "    .dataframe thead th {\n",
              "        text-align: right;\n",
              "    }\n",
              "</style>\n",
              "<table border=\"1\" class=\"dataframe\">\n",
              "  <thead>\n",
              "    <tr style=\"text-align: right;\">\n",
              "      <th></th>\n",
              "      <th>SEQN</th>\n",
              "      <th>ALQ101</th>\n",
              "      <th>ALQ110</th>\n",
              "      <th>ALQ130</th>\n",
              "      <th>SMQ020</th>\n",
              "      <th>RIAGENDR</th>\n",
              "      <th>RIDAGEYR</th>\n",
              "      <th>RIDRETH1</th>\n",
              "      <th>DMDCITZN</th>\n",
              "      <th>DMDEDUC2</th>\n",
              "      <th>...</th>\n",
              "      <th>BPXSY2</th>\n",
              "      <th>BPXDI2</th>\n",
              "      <th>BMXWT</th>\n",
              "      <th>BMXHT</th>\n",
              "      <th>BMXBMI</th>\n",
              "      <th>BMXLEG</th>\n",
              "      <th>BMXARML</th>\n",
              "      <th>BMXARMC</th>\n",
              "      <th>BMXWAIST</th>\n",
              "      <th>HIQ210</th>\n",
              "    </tr>\n",
              "  </thead>\n",
              "  <tbody>\n",
              "    <tr>\n",
              "      <th>0</th>\n",
              "      <td>83732</td>\n",
              "      <td>1.0</td>\n",
              "      <td>NaN</td>\n",
              "      <td>1.0</td>\n",
              "      <td>1</td>\n",
              "      <td>1</td>\n",
              "      <td>62</td>\n",
              "      <td>3</td>\n",
              "      <td>1.0</td>\n",
              "      <td>5.0</td>\n",
              "      <td>...</td>\n",
              "      <td>124.0</td>\n",
              "      <td>64.0</td>\n",
              "      <td>94.8</td>\n",
              "      <td>184.5</td>\n",
              "      <td>27.8</td>\n",
              "      <td>43.3</td>\n",
              "      <td>43.6</td>\n",
              "      <td>35.9</td>\n",
              "      <td>101.1</td>\n",
              "      <td>2.0</td>\n",
              "    </tr>\n",
              "    <tr>\n",
              "      <th>1</th>\n",
              "      <td>83733</td>\n",
              "      <td>1.0</td>\n",
              "      <td>NaN</td>\n",
              "      <td>6.0</td>\n",
              "      <td>1</td>\n",
              "      <td>1</td>\n",
              "      <td>53</td>\n",
              "      <td>3</td>\n",
              "      <td>2.0</td>\n",
              "      <td>3.0</td>\n",
              "      <td>...</td>\n",
              "      <td>140.0</td>\n",
              "      <td>88.0</td>\n",
              "      <td>90.4</td>\n",
              "      <td>171.4</td>\n",
              "      <td>30.8</td>\n",
              "      <td>38.0</td>\n",
              "      <td>40.0</td>\n",
              "      <td>33.2</td>\n",
              "      <td>107.9</td>\n",
              "      <td>NaN</td>\n",
              "    </tr>\n",
              "    <tr>\n",
              "      <th>2</th>\n",
              "      <td>83734</td>\n",
              "      <td>1.0</td>\n",
              "      <td>NaN</td>\n",
              "      <td>NaN</td>\n",
              "      <td>1</td>\n",
              "      <td>1</td>\n",
              "      <td>78</td>\n",
              "      <td>3</td>\n",
              "      <td>1.0</td>\n",
              "      <td>3.0</td>\n",
              "      <td>...</td>\n",
              "      <td>132.0</td>\n",
              "      <td>44.0</td>\n",
              "      <td>83.4</td>\n",
              "      <td>170.1</td>\n",
              "      <td>28.8</td>\n",
              "      <td>35.6</td>\n",
              "      <td>37.0</td>\n",
              "      <td>31.0</td>\n",
              "      <td>116.5</td>\n",
              "      <td>2.0</td>\n",
              "    </tr>\n",
              "    <tr>\n",
              "      <th>3</th>\n",
              "      <td>83735</td>\n",
              "      <td>2.0</td>\n",
              "      <td>1.0</td>\n",
              "      <td>1.0</td>\n",
              "      <td>2</td>\n",
              "      <td>2</td>\n",
              "      <td>56</td>\n",
              "      <td>3</td>\n",
              "      <td>1.0</td>\n",
              "      <td>5.0</td>\n",
              "      <td>...</td>\n",
              "      <td>134.0</td>\n",
              "      <td>68.0</td>\n",
              "      <td>109.8</td>\n",
              "      <td>160.9</td>\n",
              "      <td>42.4</td>\n",
              "      <td>38.5</td>\n",
              "      <td>37.7</td>\n",
              "      <td>38.3</td>\n",
              "      <td>110.1</td>\n",
              "      <td>2.0</td>\n",
              "    </tr>\n",
              "    <tr>\n",
              "      <th>4</th>\n",
              "      <td>83736</td>\n",
              "      <td>2.0</td>\n",
              "      <td>1.0</td>\n",
              "      <td>1.0</td>\n",
              "      <td>2</td>\n",
              "      <td>2</td>\n",
              "      <td>42</td>\n",
              "      <td>4</td>\n",
              "      <td>1.0</td>\n",
              "      <td>4.0</td>\n",
              "      <td>...</td>\n",
              "      <td>114.0</td>\n",
              "      <td>54.0</td>\n",
              "      <td>55.2</td>\n",
              "      <td>164.9</td>\n",
              "      <td>20.3</td>\n",
              "      <td>37.4</td>\n",
              "      <td>36.0</td>\n",
              "      <td>27.2</td>\n",
              "      <td>80.4</td>\n",
              "      <td>2.0</td>\n",
              "    </tr>\n",
              "  </tbody>\n",
              "</table>\n",
              "<p>5 rows × 28 columns</p>\n",
              "</div>"
            ],
            "text/plain": [
              "    SEQN  ALQ101  ALQ110  ALQ130  SMQ020  RIAGENDR  RIDAGEYR  RIDRETH1  \\\n",
              "0  83732     1.0     NaN     1.0       1         1        62         3   \n",
              "1  83733     1.0     NaN     6.0       1         1        53         3   \n",
              "2  83734     1.0     NaN     NaN       1         1        78         3   \n",
              "3  83735     2.0     1.0     1.0       2         2        56         3   \n",
              "4  83736     2.0     1.0     1.0       2         2        42         4   \n",
              "\n",
              "   DMDCITZN  DMDEDUC2  ...  BPXSY2  BPXDI2  BMXWT  BMXHT  BMXBMI  BMXLEG  \\\n",
              "0       1.0       5.0  ...   124.0    64.0   94.8  184.5    27.8    43.3   \n",
              "1       2.0       3.0  ...   140.0    88.0   90.4  171.4    30.8    38.0   \n",
              "2       1.0       3.0  ...   132.0    44.0   83.4  170.1    28.8    35.6   \n",
              "3       1.0       5.0  ...   134.0    68.0  109.8  160.9    42.4    38.5   \n",
              "4       1.0       4.0  ...   114.0    54.0   55.2  164.9    20.3    37.4   \n",
              "\n",
              "   BMXARML  BMXARMC  BMXWAIST  HIQ210  \n",
              "0     43.6     35.9     101.1     2.0  \n",
              "1     40.0     33.2     107.9     NaN  \n",
              "2     37.0     31.0     116.5     2.0  \n",
              "3     37.7     38.3     110.1     2.0  \n",
              "4     36.0     27.2      80.4     2.0  \n",
              "\n",
              "[5 rows x 28 columns]"
            ]
          },
          "execution_count": 82,
          "metadata": {},
          "output_type": "execute_result"
        }
      ],
      "source": [
        "da = pd.read_csv(\"nhanes_2015_2016.csv\")\n",
        "\n",
        "da.head()"
      ]
    },
    {
      "cell_type": "markdown",
      "metadata": {
        "id": "mOmBb9g8eP_N"
      },
      "source": [
        "## Questao 1\n",
        "\n",
        "Conduza um teste de hipóteses (com nível de significancia de 0.05) sob a hipótese nula que: a proporção de mulheres que fumam é igual a proporção de homens que fumam."
      ]
    },
    {
      "cell_type": "code",
      "execution_count": null,
      "metadata": {
        "id": "BnlixIUSeP_O"
      },
      "outputs": [],
      "source": [
        "da_masculino_fumante=da[da['RIAGENDR']==1]['SMQ020']\n",
        "da_masculino_fumante=da_masculino_fumante[~da_masculino_fumante.isna()]\n",
        "da_masculino_fumante.reset_index(inplace=True, drop=True)\n",
        "\n",
        "da_feminino_fumante=da[da['RIAGENDR']==2]['SMQ020']\n",
        "da_feminino_fumante=da_feminino_fumante[~da_feminino_fumante.isna()]\n",
        "da_feminino_fumante.reset_index(inplace=True, drop=True)"
      ]
    },
    {
      "cell_type": "code",
      "execution_count": null,
      "metadata": {
        "id": "5DRj5V6oeP_O",
        "outputId": "e55a27ca-305c-4e08-bc49-1191dc2639b4"
      },
      "outputs": [
        {
          "name": "stdout",
          "output_type": "stream",
          "text": [
            "1413 , 1346\n"
          ]
        }
      ],
      "source": [
        "print(sum(da_masculino_fumante==1), \",\", sum(da_masculino_fumante!=1))"
      ]
    },
    {
      "cell_type": "code",
      "execution_count": null,
      "metadata": {
        "id": "2SkEGtOzeP_O",
        "outputId": "3b065108-ad4b-4e4d-8fa0-97d4c576bb12"
      },
      "outputs": [
        {
          "name": "stdout",
          "output_type": "stream",
          "text": [
            "906 , 2070\n"
          ]
        }
      ],
      "source": [
        "print(sum(da_feminino_fumante==1), \",\", sum(da_feminino_fumante!=1))"
      ]
    },
    {
      "cell_type": "code",
      "execution_count": null,
      "metadata": {
        "id": "sDX37tt0eP_O",
        "outputId": "68687c5e-700f-4e85-9567-287f05eed075"
      },
      "outputs": [
        {
          "data": {
            "text/plain": [
              "0.5121420804639362"
            ]
          },
          "execution_count": 86,
          "metadata": {},
          "output_type": "execute_result"
        }
      ],
      "source": [
        "sum(da_masculino_fumante==1)/len(da_masculino_fumante)"
      ]
    },
    {
      "cell_type": "code",
      "execution_count": null,
      "metadata": {
        "id": "LJgf0Rq5eP_O",
        "outputId": "c308a2ec-9110-4093-928f-db8c4872c095"
      },
      "outputs": [
        {
          "data": {
            "text/plain": [
              "0.30443548387096775"
            ]
          },
          "execution_count": 87,
          "metadata": {},
          "output_type": "execute_result"
        }
      ],
      "source": [
        "sum(da_feminino_fumante==1)/len(da_feminino_fumante)"
      ]
    },
    {
      "cell_type": "code",
      "execution_count": null,
      "metadata": {
        "id": "5aBz3DQ6eP_P",
        "outputId": "3ee1a386-1139-4d55-f61e-6a47a0714b2c"
      },
      "outputs": [
        {
          "data": {
            "text/plain": [
              "1.2459917316304396"
            ]
          },
          "execution_count": 88,
          "metadata": {},
          "output_type": "execute_result"
        }
      ],
      "source": [
        "(np.std(da_masculino_fumante)**2)/(np.std(da_feminino_fumante)**2)"
      ]
    },
    {
      "cell_type": "code",
      "execution_count": null,
      "metadata": {
        "id": "z7IQ_cGoeP_P",
        "outputId": "07815b23-cec7-4a14-e217-91897a047d02"
      },
      "outputs": [
        {
          "data": {
            "text/plain": [
              "(-13.667880438664463, 7.117170730872684e-42, 5733.0)"
            ]
          },
          "execution_count": 89,
          "metadata": {},
          "output_type": "execute_result"
        }
      ],
      "source": [
        "sm.stats.ttest_ind(da_masculino_fumante, da_feminino_fumante)"
      ]
    },
    {
      "cell_type": "markdown",
      "metadata": {
        "id": "bSbFV2OpeP_P"
      },
      "source": [
        "Q1b. Construa três intervalos de confiança de 95%: um para a proporção de mulheres que fumam, um para a proporção de homens que fumam e um para a diferença nas taxas de tabagismo entre mulheres e homens."
      ]
    },
    {
      "cell_type": "code",
      "execution_count": null,
      "metadata": {
        "colab": {
          "base_uri": "https://localhost:8080/",
          "height": 211
        },
        "id": "xIcgKoO9eP_P",
        "outputId": "2ae196a1-7f0c-4730-c51a-aff3ba8f1a10"
      },
      "outputs": [
        {
          "output_type": "error",
          "ename": "NameError",
          "evalue": "name 'proportion_confint' is not defined",
          "traceback": [
            "\u001b[0;31m---------------------------------------------------------------------------\u001b[0m",
            "\u001b[0;31mNameError\u001b[0m                                 Traceback (most recent call last)",
            "\u001b[0;32m/tmp/ipython-input-1-2567612904.py\u001b[0m in \u001b[0;36m<cell line: 0>\u001b[0;34m()\u001b[0m\n\u001b[0;32m----> 1\u001b[0;31m \u001b[0mci_low\u001b[0m\u001b[0;34m,\u001b[0m \u001b[0mci_upp\u001b[0m \u001b[0;34m=\u001b[0m \u001b[0mproportion_confint\u001b[0m\u001b[0;34m(\u001b[0m\u001b[0msum\u001b[0m\u001b[0;34m(\u001b[0m\u001b[0mda_feminino_fumante\u001b[0m\u001b[0;34m==\u001b[0m\u001b[0;36m1\u001b[0m\u001b[0;34m)\u001b[0m\u001b[0;34m,\u001b[0m \u001b[0mlen\u001b[0m\u001b[0;34m(\u001b[0m\u001b[0mda_feminino_fumante\u001b[0m\u001b[0;34m)\u001b[0m\u001b[0;34m,\u001b[0m \u001b[0malpha\u001b[0m\u001b[0;34m=\u001b[0m\u001b[0;36m0.05\u001b[0m\u001b[0;34m,\u001b[0m \u001b[0mmethod\u001b[0m\u001b[0;34m=\u001b[0m\u001b[0;34m'normal'\u001b[0m\u001b[0;34m)\u001b[0m\u001b[0;34m\u001b[0m\u001b[0;34m\u001b[0m\u001b[0m\n\u001b[0m\u001b[1;32m      2\u001b[0m \u001b[0mci_low\u001b[0m\u001b[0;34m,\u001b[0m \u001b[0mci_upp\u001b[0m\u001b[0;34m\u001b[0m\u001b[0;34m\u001b[0m\u001b[0m\n\u001b[1;32m      3\u001b[0m \u001b[0;34m\u001b[0m\u001b[0m\n\u001b[1;32m      4\u001b[0m \u001b[0mci_low\u001b[0m\u001b[0;34m,\u001b[0m \u001b[0mci_upp\u001b[0m \u001b[0;34m=\u001b[0m \u001b[0mproportion_confint\u001b[0m\u001b[0;34m(\u001b[0m\u001b[0msum\u001b[0m\u001b[0;34m(\u001b[0m\u001b[0mda_masculino_fumante\u001b[0m\u001b[0;34m==\u001b[0m\u001b[0;36m1\u001b[0m\u001b[0;34m)\u001b[0m\u001b[0;34m,\u001b[0m \u001b[0mlen\u001b[0m\u001b[0;34m(\u001b[0m\u001b[0mda_masculino_fumante\u001b[0m\u001b[0;34m)\u001b[0m\u001b[0;34m,\u001b[0m \u001b[0malpha\u001b[0m\u001b[0;34m=\u001b[0m\u001b[0;36m0.05\u001b[0m\u001b[0;34m,\u001b[0m \u001b[0mmethod\u001b[0m\u001b[0;34m=\u001b[0m\u001b[0;34m'normal'\u001b[0m\u001b[0;34m)\u001b[0m\u001b[0;34m\u001b[0m\u001b[0;34m\u001b[0m\u001b[0m\n\u001b[1;32m      5\u001b[0m \u001b[0mci_low\u001b[0m\u001b[0;34m,\u001b[0m \u001b[0mci_upp\u001b[0m\u001b[0;34m\u001b[0m\u001b[0;34m\u001b[0m\u001b[0m\n",
            "\u001b[0;31mNameError\u001b[0m: name 'proportion_confint' is not defined"
          ]
        }
      ],
      "source": [
        "ci_low, ci_upp = proportion_confint(sum(da_feminino_fumante==1), len(da_feminino_fumante), alpha=0.05, method='normal')\n",
        "ci_low, ci_upp\n",
        "\n",
        "ci_low, ci_upp = proportion_confint(sum(da_masculino_fumante==1), len(da_masculino_fumante), alpha=0.05, method='normal')\n",
        "ci_low, ci_upp"
      ]
    },
    {
      "cell_type": "code",
      "execution_count": null,
      "metadata": {
        "id": "E8gFpAroeP_P"
      },
      "outputs": [],
      "source": [
        "proporcao_fumantes_masculinos=(sum(da_masculino_fumante==1)/len(da_masculino_fumante))\n",
        "proporcao_fumantes_masculinos\n",
        "\n",
        "proporcao_fumantes_femininos=(sum(da_feminino_fumante==1)/len(da_feminino_fumante))\n",
        "proporcao_fumantes_femininos"
      ]
    },
    {
      "cell_type": "code",
      "execution_count": null,
      "metadata": {
        "id": "gy884Di8eP_P"
      },
      "outputs": [],
      "source": [
        "proporcao_fumantes_genero_diff=proporcao_fumantes_masculinos-proporcao_fumantes_femininos\n",
        "proporcao_fumantes_genero_diff"
      ]
    },
    {
      "cell_type": "code",
      "execution_count": null,
      "metadata": {
        "id": "dIc1mRKceP_P",
        "outputId": "19352feb-59cb-43d2-a9a9-ffee52b6bd95"
      },
      "outputs": [
        {
          "data": {
            "text/plain": [
              "0.012716649609722899"
            ]
          },
          "execution_count": 90,
          "metadata": {},
          "output_type": "execute_result"
        }
      ],
      "source": [
        "se_fumantes_genero_masculino=np.sqrt((proporcao_fumantes_masculinos*(1-proporcao_fumantes_masculinos))/len(da_masculino_fumante))\n",
        "se_fumantes_genero_masculino\n",
        "\n",
        "se_fumantes_genero_feminino=np.sqrt((proporcao_fumantes_femininos*(1-proporcao_fumantes_femininos))/len(da_feminino_fumante))\n",
        "se_fumantes_genero_feminino\n",
        "\n",
        "se_proporcao_fumantes_diff=np.sqrt((se_fumantes_genero_masculino**2)+(se_fumantes_genero_feminino**2))\n",
        "se_proporcao_fumantes_diff"
      ]
    },
    {
      "cell_type": "code",
      "execution_count": null,
      "metadata": {
        "id": "33EqLHv_eP_Q",
        "outputId": "f5d31c35-78c5-4f72-80c0-9340b34978b7"
      },
      "outputs": [
        {
          "name": "stdout",
          "output_type": "stream",
          "text": [
            "Limite inferior (Homens - Mulheres):  0.18278196335791153\n",
            "Limite superior (Homens - Mulheres):  0.2326312298280253\n"
          ]
        }
      ],
      "source": [
        "# Impressão dos limites inferior e superior do intervalo de confiança de 95%\n",
        "# para a diferença nas proporções de fumantes entre homens e mulheres\n",
        "print('Limite inferior (Homens - Mulheres): ', proporcao_fumantes_genero_diff - 1.96 * se_proporcao_fumantes_diff)\n",
        "print('Limite superior (Homens - Mulheres): ', proporcao_fumantes_genero_diff + 1.96 * se_proporcao_fumantes_diff)"
      ]
    },
    {
      "cell_type": "markdown",
      "metadata": {
        "id": "VNNE5i-3eP_Q"
      },
      "source": [
        "# Questão 2\n",
        "\n",
        "Divida a população em dois grupos com base no fato de a pessoa ter ou não se formado na faculdade, utilizando a variável de escolaridade DMDEDUC2. Em seguida, realize um teste da hipótese nula de que as alturas médias (em centímetros) dos dois grupos são iguais. Depois, converta as alturas de centímetros para polegadas e realize novamente o teste da hipótese nula de que as alturas médias (em polegadas) dos dois grupos são iguais."
      ]
    },
    {
      "cell_type": "code",
      "execution_count": null,
      "metadata": {
        "id": "bSnlMIwveP_Q"
      },
      "outputs": [],
      "source": [
        "# Altura (em cm) dos indivíduos graduados (código 5 = faculdade concluída)\n",
        "da_graduado_altura_cm = da[da['DMDEDUC2'] == 5]['BMXHT']\n",
        "da_graduado_altura_cm = da_graduado_altura_cm[~da_graduado_altura_cm.isna()]  # remove valores ausentes\n",
        "da_graduado_altura_cm.reset_index(inplace=True, drop=True)  # reseta o índice\n"
      ]
    },
    {
      "cell_type": "code",
      "execution_count": null,
      "metadata": {
        "id": "WYSdcj_jeP_Q"
      },
      "outputs": [],
      "source": [
        "# Altura (em cm) dos indivíduos não graduados\n",
        "da_nao_graduado_altura_cm = da[da['DMDEDUC2'] != 5]['BMXHT']\n",
        "da_nao_graduado_altura_cm = da_nao_graduado_altura_cm[~da_nao_graduado_altura_cm.isna()]  # remove valores ausentes\n",
        "da_nao_graduado_altura_cm.reset_index(inplace=True, drop=True)  # reseta o índice"
      ]
    },
    {
      "cell_type": "code",
      "execution_count": null,
      "metadata": {
        "id": "sFwP2eLueP_Q"
      },
      "outputs": [],
      "source": [
        "# Tamanho das amostras\n",
        "len(da_graduado_altura_cm)\n",
        "len(da_nao_graduado_altura_cm)\n",
        "\n",
        "# Médias das alturas\n",
        "da_graduado_altura_cm.mean()\n",
        "da_nao_graduado_altura_cm.mean()\n",
        "\n",
        "# Teste z de diferença entre médias (em cm)\n",
        "print(sm.stats.ztest(da_graduado_altura_cm, da_nao_graduado_altura_cm))"
      ]
    },
    {
      "cell_type": "code",
      "execution_count": null,
      "metadata": {
        "id": "UmnrlQ_1eP_Q",
        "outputId": "6e29621e-9a04-4388-fa83-1d9b412a5313"
      },
      "outputs": [
        {
          "name": "stdout",
          "output_type": "stream",
          "text": [
            "(7.2007656698012505, 5.987537169067422e-13)\n",
            "(7.200765669801254, 5.987537169067248e-13)\n"
          ]
        }
      ],
      "source": [
        "# Conversão das alturas para polegadas\n",
        "da_graduado_altura_polegadas = da_graduado_altura_cm / 2.54\n",
        "da_graduado_altura_polegadas = da_graduado_altura_polegadas[~da_graduado_altura_polegadas.isna()]\n",
        "da_graduado_altura_polegadas.reset_index(inplace=True, drop=True)\n",
        "\n",
        "da_nao_graduado_altura_polegadas = da_nao_graduado_altura_cm / 2.54\n",
        "da_nao_graduado_altura_polegadas = da_nao_graduado_altura_polegadas[~da_nao_graduado_altura_polegadas.isna()]\n",
        "da_nao_graduado_altura_polegadas.reset_index(inplace=True, drop=True)\n",
        "\n",
        "# Teste z de diferença entre médias (em polegadas)\n",
        "print(sm.stats.ztest(da_graduado_altura_polegadas, da_nao_graduado_altura_polegadas))"
      ]
    },
    {
      "cell_type": "markdown",
      "metadata": {
        "id": "fetL1IoyeP_Q"
      },
      "source": [
        "## Questão 3\n",
        "\n",
        "\n",
        "Realize um teste da hipótese nula de que o IMC médio de homens entre 30 e 40 anos é igual ao IMC médio de homens entre 50 e 60 anos. Em seguida, repita esse teste após aplicar a transformação logarítmica nos valores de IMC."
      ]
    },
    {
      "cell_type": "code",
      "execution_count": null,
      "metadata": {
        "id": "NduJHJx_eP_R"
      },
      "outputs": [],
      "source": [
        "da_bmi=da[(da['RIDAGEYR']>=30)&(da['RIDAGEYR']<=40)]\n",
        "\n",
        "da_bmi.reset_index(inplace=True, drop=True)"
      ]
    },
    {
      "cell_type": "code",
      "execution_count": null,
      "metadata": {
        "id": "c2xpQ5PWeP_R"
      },
      "outputs": [],
      "source": [
        "bmi_homem = da_bmi[da_bmi['RIAGENDR']==1]['BMXBMI']\n",
        "bmi_homem = bmi_homem[~bmi_homem.isna()]\n",
        "bmi_homem.reset_index(inplace=True, drop=True)"
      ]
    },
    {
      "cell_type": "code",
      "execution_count": null,
      "metadata": {
        "id": "aZAKfSx_eP_R"
      },
      "outputs": [],
      "source": [
        "bmi_mulher=da_bmi[da_bmi['RIAGENDR']==2]['BMXBMI']\n",
        "bmi_mulher=bmi_mulher[~bmi_mulher.isna()]\n",
        "bmi_mulher.reset_index(inplace=True, drop=True)"
      ]
    },
    {
      "cell_type": "code",
      "execution_count": null,
      "metadata": {
        "id": "fMRhrNaqeP_R",
        "outputId": "10a5fac7-0f80-4abf-f39a-43ceb76dcec8"
      },
      "outputs": [
        {
          "data": {
            "text/plain": [
              "488"
            ]
          },
          "execution_count": 96,
          "metadata": {},
          "output_type": "execute_result"
        }
      ],
      "source": [
        "len(bmi_homem)"
      ]
    },
    {
      "cell_type": "code",
      "execution_count": null,
      "metadata": {
        "id": "AZkSvGuVeP_R",
        "outputId": "7c069bfb-f345-4a2e-9036-4d2a67fbf683"
      },
      "outputs": [
        {
          "data": {
            "text/plain": [
              "525"
            ]
          },
          "execution_count": 97,
          "metadata": {},
          "output_type": "execute_result"
        }
      ],
      "source": [
        "len(bmi_mulher)"
      ]
    },
    {
      "cell_type": "code",
      "execution_count": null,
      "metadata": {
        "id": "A_fGHd_ueP_R",
        "outputId": "05d68de0-6205-4a39-9901-d52187416d23"
      },
      "outputs": [
        {
          "name": "stdout",
          "output_type": "stream",
          "text": [
            "(-1.109324496826031, 0.26729022096402777)\n"
          ]
        }
      ],
      "source": [
        "print(sm.stats.ztest(bmi_homem, bmi_mulher))"
      ]
    },
    {
      "cell_type": "code",
      "execution_count": null,
      "metadata": {
        "id": "arMNm8PteP_R"
      },
      "outputs": [],
      "source": [
        "bmi_homem_log=np.log(bmi_homem)"
      ]
    },
    {
      "cell_type": "code",
      "execution_count": null,
      "metadata": {
        "id": "W4ZkJg_QeP_R"
      },
      "outputs": [],
      "source": [
        "bmi_mulher_log=np.log(bmi_mulher)"
      ]
    },
    {
      "cell_type": "code",
      "execution_count": null,
      "metadata": {
        "id": "OfF3P8qteP_S",
        "outputId": "9d7b56ef-8a10-4f23-d3b1-b772ae76337e"
      },
      "outputs": [
        {
          "name": "stdout",
          "output_type": "stream",
          "text": [
            "(-0.4737991644730396, 0.6356431304660779)\n"
          ]
        }
      ],
      "source": [
        "print(sm.stats.ztest(bmi_homem_log, bmi_mulher_log))"
      ]
    },
    {
      "cell_type": "markdown",
      "metadata": {
        "id": "cp7zhbzYeP_S"
      },
      "source": [
        "# Questão 4\n",
        "\n",
        "Suponha que desejamos comparar o IMC médio entre mulheres que se formaram na faculdade e aquelas que não se formaram, focando na faixa etária de 30 a 40 anos. Primeiro, analise a variância do IMC dentro de cada uma dessas subpopulações utilizando técnicas gráficas e os valores estimados de variância de cada grupo. Em seguida, calcule as estimativas (pooled e não-pooled) do erro padrão da diferença entre os IMCs médios nas duas populações comparadas. Por fim, teste a hipótese nula de que as duas médias populacionais são iguais, utilizando cada uma das duas estimativas de erro padrão."
      ]
    },
    {
      "cell_type": "code",
      "execution_count": null,
      "metadata": {
        "colab": {
          "base_uri": "https://localhost:8080/",
          "height": 176
        },
        "id": "5K8SwEKceP_S",
        "outputId": "813ce405-bde8-47a0-8b8d-89c5602a1114"
      },
      "outputs": [
        {
          "output_type": "error",
          "ename": "NameError",
          "evalue": "name 'da_bmi' is not defined",
          "traceback": [
            "\u001b[0;31m---------------------------------------------------------------------------\u001b[0m",
            "\u001b[0;31mNameError\u001b[0m                                 Traceback (most recent call last)",
            "\u001b[0;32m/tmp/ipython-input-5-3627009078.py\u001b[0m in \u001b[0;36m<cell line: 0>\u001b[0;34m()\u001b[0m\n\u001b[1;32m      1\u001b[0m \u001b[0;31m# Filtra apenas os dados de mulheres\u001b[0m\u001b[0;34m\u001b[0m\u001b[0;34m\u001b[0m\u001b[0m\n\u001b[0;32m----> 2\u001b[0;31m \u001b[0mimc_mulheres\u001b[0m \u001b[0;34m=\u001b[0m \u001b[0mda_bmi\u001b[0m\u001b[0;34m[\u001b[0m\u001b[0mda_bmi\u001b[0m\u001b[0;34m[\u001b[0m\u001b[0;34m'RIAGENDR'\u001b[0m\u001b[0;34m]\u001b[0m \u001b[0;34m==\u001b[0m \u001b[0;36m2\u001b[0m\u001b[0;34m]\u001b[0m\u001b[0;34m\u001b[0m\u001b[0;34m\u001b[0m\u001b[0m\n\u001b[0m\u001b[1;32m      3\u001b[0m \u001b[0mimc_mulheres\u001b[0m\u001b[0;34m.\u001b[0m\u001b[0mreset_index\u001b[0m\u001b[0;34m(\u001b[0m\u001b[0minplace\u001b[0m\u001b[0;34m=\u001b[0m\u001b[0;32mTrue\u001b[0m\u001b[0;34m,\u001b[0m \u001b[0mdrop\u001b[0m\u001b[0;34m=\u001b[0m\u001b[0;32mTrue\u001b[0m\u001b[0;34m)\u001b[0m\u001b[0;34m\u001b[0m\u001b[0;34m\u001b[0m\u001b[0m\n",
            "\u001b[0;31mNameError\u001b[0m: name 'da_bmi' is not defined"
          ]
        }
      ],
      "source": [
        "# Filtra apenas os dados de mulheres\n",
        "imc_mulheres = da_bmi[da_bmi['RIAGENDR'] == 2]\n",
        "imc_mulheres.reset_index(inplace=True, drop=True)\n"
      ]
    },
    {
      "cell_type": "code",
      "execution_count": null,
      "metadata": {
        "id": "V1oLGGxkeP_S"
      },
      "outputs": [],
      "source": [
        "# Filtra IMC de mulheres graduadas (nível de instrução 5)\n",
        "imc_mulheres_graduadas = imc_mulheres[imc_mulheres['DMDEDUC2'] == 5]['BMXBMI']\n",
        "imc_mulheres_graduadas = imc_mulheres_graduadas[~imc_mulheres_graduadas.isna()]  # remove valores ausentes\n",
        "imc_mulheres_graduadas.reset_index(inplace=True, drop=True)\n"
      ]
    },
    {
      "cell_type": "code",
      "execution_count": null,
      "metadata": {
        "id": "jPun9puAeP_S"
      },
      "outputs": [],
      "source": [
        "# Filtra IMC de mulheres não graduadas (níveis 1 a 4)\n",
        "imc_mulheres_nao_graduadas = imc_mulheres[imc_mulheres['DMDEDUC2'].isin([1, 2, 3, 4])]['BMXBMI']\n",
        "imc_mulheres_nao_graduadas = imc_mulheres_nao_graduadas[~imc_mulheres_nao_graduadas.isna()]\n",
        "imc_mulheres_nao_graduadas.reset_index(inplace=True, drop=True)"
      ]
    },
    {
      "cell_type": "code",
      "execution_count": null,
      "metadata": {
        "colab": {
          "base_uri": "https://localhost:8080/",
          "height": 141
        },
        "id": "BEBl8AFueP_S",
        "outputId": "a2ddd282-58a1-45cf-e1dd-b208d0229b3f"
      },
      "outputs": [
        {
          "output_type": "error",
          "ename": "NameError",
          "evalue": "name 'imc_mulheres_graduadas' is not defined",
          "traceback": [
            "\u001b[0;31m---------------------------------------------------------------------------\u001b[0m",
            "\u001b[0;31mNameError\u001b[0m                                 Traceback (most recent call last)",
            "\u001b[0;32m/tmp/ipython-input-3-4030408753.py\u001b[0m in \u001b[0;36m<cell line: 0>\u001b[0;34m()\u001b[0m\n\u001b[0;32m----> 1\u001b[0;31m \u001b[0mimc_mulheres_graduadas\u001b[0m\u001b[0;34m.\u001b[0m\u001b[0mdescribe\u001b[0m\u001b[0;34m(\u001b[0m\u001b[0;34m)\u001b[0m\u001b[0;34m\u001b[0m\u001b[0;34m\u001b[0m\u001b[0m\n\u001b[0m",
            "\u001b[0;31mNameError\u001b[0m: name 'imc_mulheres_graduadas' is not defined"
          ]
        }
      ],
      "source": [
        "imc_mulheres_graduadas.describe()"
      ]
    },
    {
      "cell_type": "code",
      "execution_count": null,
      "metadata": {
        "id": "LJ6zfJBaeP_S"
      },
      "outputs": [],
      "source": [
        "imc_mulheres_nao_graduadas.describe()"
      ]
    },
    {
      "cell_type": "code",
      "execution_count": null,
      "metadata": {
        "id": "7fYy9EqQeP_c"
      },
      "outputs": [],
      "source": [
        "sns.boxplot(imc_mulheres_graduadas)"
      ]
    },
    {
      "cell_type": "code",
      "execution_count": null,
      "metadata": {
        "id": "HvAq73e_eP_c",
        "outputId": "9d2279f2-0b55-41ed-eb85-268f212aaf46"
      },
      "outputs": [
        {
          "data": {
            "text/plain": [
              "<AxesSubplot: >"
            ]
          },
          "execution_count": 103,
          "metadata": {},
          "output_type": "execute_result"
        },
        {
          "data": {
            "image/png": "[encoded data removed]",
            "text/plain": [
              "<Figure size 640x480 with 1 Axes>"
            ]
          },
          "metadata": {},
          "output_type": "display_data"
        }
      ],
      "source": [
        "sns.boxplot(imc_mulheres_nao_graduadas)"
      ]
    },
    {
      "cell_type": "code",
      "execution_count": null,
      "metadata": {
        "id": "BqrTYECYeP_c",
        "outputId": "b71b1b38-de4f-4875-8328-e630693acc9b"
      },
      "outputs": [
        {
          "data": {
            "text/plain": [
              "0.791924918261364"
            ]
          },
          "execution_count": 104,
          "metadata": {},
          "output_type": "execute_result"
        }
      ],
      "source": [
        "#Razão entre as variancias\n",
        "(np.std(imc_mulheres_graduadas)**2)/(np.std(imc_mulheres_nao_graduadas)**2)"
      ]
    },
    {
      "cell_type": "code",
      "execution_count": null,
      "metadata": {
        "id": "VSmvJshJeP_c",
        "outputId": "b527077f-82a7-4d86-80dd-0f6f283b577f"
      },
      "outputs": [
        {
          "name": "stdout",
          "output_type": "stream",
          "text": [
            "variancia_pooled:  (-4.643908450956424, 3.4187910067116893e-06)\n",
            "variancia_diferente: (-4.833662355599101, 1.340438616920389e-06)\n"
          ]
        }
      ],
      "source": [
        "# Cria objetos estatísticos descritivos para IMC de mulheres graduadas e não graduadas\n",
        "imc_mulheres_graduadas = sm.stats.DescrStatsW(imc_mulheres_graduadas)\n",
        "imc_mulheres_nao_graduadas = sm.stats.DescrStatsW(imc_mulheres_nao_graduadas)\n",
        "\n",
        "# Teste z de diferença entre médias assumindo variâncias iguais (pooled)\n",
        "print(\"variancia_pooled: \", sm.stats.CompareMeans(imc_mulheres_graduadas, imc_mulheres_nao_graduadas).ztest_ind(usevar='pooled'))\n",
        "\n",
        "# Teste z de diferença entre médias assumindo variâncias diferentes (unequal)\n",
        "print(\"variancia_diferente:\", sm.stats.CompareMeans(imc_mulheres_graduadas, imc_mulheres_nao_graduadas).ztest_ind(usevar='unequal'))"
      ]
    },
    {
      "cell_type": "markdown",
      "metadata": {
        "id": "GCf3vTuieP_c"
      },
      "source": [
        "# Questão 5\n",
        "\n",
        "Realize um teste da hipótese nula de que a primeira e a segunda medições da pressão arterial diastólica de um mesmo indivíduo possuem o mesmo valor médio."
      ]
    },
    {
      "cell_type": "code",
      "execution_count": null,
      "metadata": {
        "id": "3upcxPSReP_d",
        "outputId": "fef92ebe-f517-4f7d-c4f1-7fbd2bdb595d"
      },
      "outputs": [
        {
          "name": "stdout",
          "output_type": "stream",
          "text": [
            "0.3490407897187558\n"
          ]
        },
        {
          "data": {
            "text/plain": [
              "(4.140387087476751, 3.467202439743513e-05)"
            ]
          },
          "execution_count": 106,
          "metadata": {},
          "output_type": "execute_result"
        }
      ],
      "source": [
        "dx = da[[\"BPXDI1\", \"BPXDI2\"]].dropna()\n",
        "db = dx.BPXDI1 - dx.BPXDI2\n",
        "print(db.mean())\n",
        "sm.stats.ztest(db)"
      ]
    },
    {
      "cell_type": "markdown",
      "metadata": {
        "id": "EBknCbQseP_d"
      },
      "source": [
        "Q5b. Suponha que a primeira e a segunda medições da pressão arterial diastólica foram feitas em pessoas diferentes. Modifique a análise acima de forma apropriada para esse cenário."
      ]
    },
    {
      "cell_type": "code",
      "execution_count": null,
      "metadata": {
        "id": "7DYkTAQgeP_d"
      },
      "outputs": [],
      "source": [
        "BPXDI1=da[~da['BPXDI1'].isna()]['BPXDI1']\n",
        "BPXDI1.reset_index(inplace=True, drop=True)\n",
        "BPXDI2=da[~da['BPXDI2'].isna()]['BPXDI2']\n",
        "BPXDI2.reset_index(inplace=True, drop=True)"
      ]
    },
    {
      "cell_type": "code",
      "execution_count": null,
      "metadata": {
        "id": "QFeW1LsYeP_d",
        "outputId": "9e355bb1-8378-4e68-8f52-4f52059be11b"
      },
      "outputs": [
        {
          "name": "stdout",
          "output_type": "stream",
          "text": [
            "(0.6848982193746493, 0.49340814971248503)\n"
          ]
        }
      ],
      "source": [
        "BPXDI1 = sm.stats.DescrStatsW(BPXDI1)\n",
        "BPXDI2 = sm.stats.DescrStatsW(BPXDI2)\n",
        "print(sm.stats.CompareMeans(BPXDI1, BPXDI2).ztest_ind(usevar='pooled'))"
      ]
    },
    {
      "cell_type": "markdown",
      "metadata": {
        "id": "v52lbK_ieP_d"
      },
      "source": [
        "### FIM"
      ]
    }
  ],
  "metadata": {
    "kernelspec": {
      "display_name": "Python 3 (ipykernel)",
      "language": "python",
      "name": "python3"
    },
    "language_info": {
      "codemirror_mode": {
        "name": "ipython",
        "version": 3
      },
      "file_extension": ".py",
      "mimetype": "text/x-python",
      "name": "python",
      "nbconvert_exporter": "python",
      "pygments_lexer": "ipython3",
      "version": "3.8.18"
    },
    "colab": {
      "provenance": []
    }
  },
  "nbformat": 4,
  "nbformat_minor": 0
}